{
 "cells": [
  {
   "cell_type": "code",
   "execution_count": 20,
   "id": "b6f6f827",
   "metadata": {},
   "outputs": [
    {
     "name": "stdout",
     "output_type": "stream",
     "text": [
      "hello\n",
      "\n",
      "world!"
     ]
    }
   ],
   "source": [
    "print(\"hello\",end ='')\n",
    "print(\"\\n\")\n",
    "print(\"world\",end ='!')"
   ]
  },
  {
   "cell_type": "code",
   "execution_count": 21,
   "id": "69fede97",
   "metadata": {},
   "outputs": [
    {
     "name": "stdout",
     "output_type": "stream",
     "text": [
      "100\n"
     ]
    }
   ],
   "source": [
    "a=100\n",
    "print(a)\n"
   ]
  },
  {
   "cell_type": "code",
   "execution_count": 28,
   "id": "db732019",
   "metadata": {},
   "outputs": [
    {
     "name": "stdout",
     "output_type": "stream",
     "text": [
      "punith\n",
      "N\n",
      "1sv21cs058\n",
      "CSE\n",
      "3rd\n",
      "100\n"
     ]
    }
   ],
   "source": [
    "first_name='punith'\n",
    "last_name='N'\n",
    "usn='1sv21cs058'\n",
    "branch='CSE'\n",
    "sem='3rd sem'\n",
    "marks='100'\n",
    "print(\"punith\")\n",
    "print(\"N\")\n",
    "print(\"1sv21cs058\")\n",
    "print(\"CSE\")\n",
    "print(\"3rd\")\n",
    "print(\"100\")\n",
    "\n"
   ]
  }
 ],
 "metadata": {
  "kernelspec": {
   "display_name": "Python 3 (ipykernel)",
   "language": "python",
   "name": "python3"
  },
  "language_info": {
   "codemirror_mode": {
    "name": "ipython",
    "version": 3
   },
   "file_extension": ".py",
   "mimetype": "text/x-python",
   "name": "python",
   "nbconvert_exporter": "python",
   "pygments_lexer": "ipython3",
   "version": "3.9.12"
  }
 },
 "nbformat": 4,
 "nbformat_minor": 5
}
